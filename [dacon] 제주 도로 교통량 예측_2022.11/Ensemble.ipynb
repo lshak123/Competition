{
 "cells": [
  {
   "cell_type": "markdown",
   "id": "7e004614",
   "metadata": {},
   "source": [
    "## 4) Ensemble\n",
    "생성한 LGBM submission과 Tabnet submission을 Ensemble해 최종 submission을 구한다."
   ]
  },
  {
   "cell_type": "markdown",
   "id": "d0803489",
   "metadata": {},
   "source": [
    "### Import"
   ]
  },
  {
   "cell_type": "code",
   "execution_count": 1,
   "id": "210ba115",
   "metadata": {},
   "outputs": [],
   "source": [
    "import pandas as pd\n",
    "from scipy.stats import gmean\n",
    "from sklearn.metrics import mean_absolute_error"
   ]
  },
  {
   "cell_type": "markdown",
   "id": "a31e6051",
   "metadata": {},
   "source": [
    "### Read Data"
   ]
  },
  {
   "cell_type": "code",
   "execution_count": null,
   "id": "d113a129",
   "metadata": {},
   "outputs": [],
   "source": [
    "mae = []"
   ]
  },
  {
   "cell_type": "code",
   "execution_count": 2,
   "id": "7d864b77",
   "metadata": {},
   "outputs": [],
   "source": [
    "# ensemble 데이터\n",
    "lgbm1 = pd.read_csv('./data/submission/20221113_2151.csv')\n",
    "lgbm2 = pd.read_csv('./data/submission/20221113_2204.csv')\n",
    "tabnet = pd.read_csv('./data/submission/tabnet_best_sub.csv')"
   ]
  },
  {
   "cell_type": "code",
   "execution_count": 3,
   "id": "912de318",
   "metadata": {},
   "outputs": [],
   "source": [
    "sample = pd.read_csv('./data/raw/sample_submission.csv')"
   ]
  },
  {
   "cell_type": "code",
   "execution_count": 34,
   "id": "da2fe247",
   "metadata": {},
   "outputs": [],
   "source": [
    "tab2 = pd.read_csv('./data/submission/tabnet_first_sub.csv')"
   ]
  },
  {
   "cell_type": "code",
   "execution_count": 6,
   "id": "39106ff2",
   "metadata": {},
   "outputs": [],
   "source": [
    "# 삭제해야 한다.\n",
    "oof = pd.read_csv('./data/submission/221108_oof.csv')"
   ]
  },
  {
   "cell_type": "markdown",
   "id": "26ff7b74",
   "metadata": {},
   "source": [
    "#### $\\bullet$ Ensemble LGBMS"
   ]
  },
  {
   "cell_type": "code",
   "execution_count": null,
   "id": "0639c7b6",
   "metadata": {},
   "outputs": [],
   "source": [
    "# file_name: 20221113_0944.csv, component: LGBM1-trial4 * 0.5 & LGBM2-trial4 * 0.5\n",
    "# public score:, 3.1082829466, oof_score: 0.47128541210279684"
   ]
  },
  {
   "cell_type": "code",
   "execution_count": null,
   "id": "06f282b4",
   "metadata": {},
   "outputs": [],
   "source": [
    "# file_name: - , component: LGBM1-trial5 * 0.5 & LGBM2-trial4 * 0.5\n",
    "# public score: - , oof_score: 0.46189107051676637"
   ]
  },
  {
   "cell_type": "code",
   "execution_count": null,
   "id": "930cb503",
   "metadata": {},
   "outputs": [],
   "source": [
    "# 의미가 있어보이진 않음\n",
    "# file_name: - , component: LGBM1-trial5 * 0.6 & LGBM2-trial4 * 0.4\n",
    "# public score: - , oof_score: 0.46028583058036293"
   ]
  },
  {
   "cell_type": "code",
   "execution_count": 11,
   "id": "74da69bb",
   "metadata": {},
   "outputs": [],
   "source": [
    "sample['target'] = lgbm1['target']*0.5 + lgbm2['target']*0.5"
   ]
  },
  {
   "cell_type": "code",
   "execution_count": 55,
   "id": "0c085c08",
   "metadata": {},
   "outputs": [
    {
     "data": {
      "text/plain": [
       "1.4963237412053594"
      ]
     },
     "execution_count": 55,
     "metadata": {},
     "output_type": "execute_result"
    }
   ],
   "source": [
    "# 결과확인하기\n",
    "mean_absolute_error(tabnet['target'],oof['target'])"
   ]
  },
  {
   "cell_type": "markdown",
   "id": "48b9f4dc",
   "metadata": {},
   "source": [
    "#### $\\bullet$ Ensemble LGBM & Tabnet"
   ]
  },
  {
   "cell_type": "code",
   "execution_count": null,
   "id": "877e0af2",
   "metadata": {},
   "outputs": [],
   "source": [
    "# file_name: 20221113_1613.csv, component: LGBM1-trial4 * 0.45 & LGBM2-trial4 * 0.45 & tabnet-trial1 * 0.1\n",
    "# public score: 3.1050840042, oof_score: 0.46..."
   ]
  },
  {
   "cell_type": "code",
   "execution_count": null,
   "id": "114e9dbc",
   "metadata": {},
   "outputs": [],
   "source": [
    "# file_name: , component: LGBM1-trial5 * 0.45 & LGBM2-trial4 * 0.45 & tabnet-trial1 * 0.1\n",
    "# public score: -, oof_score: 0.43797349423487186"
   ]
  },
  {
   "cell_type": "code",
   "execution_count": null,
   "id": "e7ee78cb",
   "metadata": {},
   "outputs": [],
   "source": [
    "# file_name: , component: LGBM1-trial5 * (0.85/2) & LGBM2-trial4 * (0.85/2) & tabnet-trial1 * 0.15\n",
    "# public score: -, oof_score: 0.44841635902804844"
   ]
  },
  {
   "cell_type": "code",
   "execution_count": null,
   "id": "1582aff3",
   "metadata": {},
   "outputs": [],
   "source": [
    "# file_name: , component: LGBM1-trial5 * 0.4 & LGBM2-trial4 * 0.4 & tabnet-trial1 * 0.2\n",
    "# public score: -, oof_score: 0.4722241532535128"
   ]
  },
  {
   "cell_type": "code",
   "execution_count": null,
   "id": "789f4abb",
   "metadata": {},
   "outputs": [],
   "source": [
    "# file_name: , component: gmean(LGBM1-trial5 & LGBM2-trial4) * 0.9 & tabnet-trial1 * 0.1\n",
    "# public score: -, oof_score: 0.4380012190249354"
   ]
  },
  {
   "cell_type": "code",
   "execution_count": null,
   "id": "b1d7a06a",
   "metadata": {},
   "outputs": [],
   "source": [
    "# file_name: , component: gmean(LGBM1-trial5 & LGBM2-trial4) * 0.85 & tabnet-trial1 * 0.15\n",
    "# public score: -, oof_score: 0.44843616260238106"
   ]
  },
  {
   "cell_type": "code",
   "execution_count": 53,
   "id": "579bf526",
   "metadata": {},
   "outputs": [],
   "source": [
    "sample['target'] = lgbm1['target']*0.25 + lgbm2['target']*0.25 + tabnet['target']*0.5"
   ]
  },
  {
   "cell_type": "code",
   "execution_count": 38,
   "id": "94c6fe38",
   "metadata": {},
   "outputs": [],
   "source": [
    "# 기하평균 사용\n",
    "ease = pd.merge(lgbm1, lgbm2, on='id',how='left')\n",
    "ease.set_index('id',inplace=True)\n",
    "ease['target'] = gmean(ease, axis=1)\n",
    "ease.reset_index(inplace=True)\n",
    "\n",
    "sample['target'] = ease['target']*0.4 + tabnet['target']*0.6"
   ]
  },
  {
   "cell_type": "code",
   "execution_count": 50,
   "id": "a982b1de",
   "metadata": {
    "scrolled": true
   },
   "outputs": [
    {
     "data": {
      "text/plain": [
       "0.9123736520428909"
      ]
     },
     "execution_count": 50,
     "metadata": {},
     "output_type": "execute_result"
    }
   ],
   "source": [
    "# 결과 확인하기\n",
    "# gmean(LGBM) * 0.4 + tabnet * 0.6\n",
    "mean_absolute_error(sample['target'],oof['target'])"
   ]
  },
  {
   "cell_type": "code",
   "execution_count": 44,
   "id": "8ba68108",
   "metadata": {
    "scrolled": true
   },
   "outputs": [
    {
     "data": {
      "text/plain": [
       "0.912383222526445"
      ]
     },
     "execution_count": 44,
     "metadata": {},
     "output_type": "execute_result"
    }
   ],
   "source": [
    "# 결과 확인하기\n",
    "# LGBM * 0.2 + LGBM * 0.2 + tabnet * 0.6\n",
    "mean_absolute_error(sample['target'],oof['target'])"
   ]
  },
  {
   "cell_type": "code",
   "execution_count": 46,
   "id": "8b8a681a",
   "metadata": {
    "scrolled": true
   },
   "outputs": [
    {
     "data": {
      "text/plain": [
       "0.7786216699945616"
      ]
     },
     "execution_count": 46,
     "metadata": {},
     "output_type": "execute_result"
    }
   ],
   "source": [
    "# 결과 확인하기\n",
    "# LGBM * 0.25 + LGBM * 0.25 + tabnet * 0.5\n",
    "mean_absolute_error(sample['target'],oof['target'])"
   ]
  },
  {
   "cell_type": "code",
   "execution_count": 48,
   "id": "4428fc65",
   "metadata": {
    "scrolled": true
   },
   "outputs": [
    {
     "data": {
      "text/plain": [
       "0.7786123287821225"
      ]
     },
     "execution_count": 48,
     "metadata": {},
     "output_type": "execute_result"
    }
   ],
   "source": [
    "# 결과 확인하기\n",
    "# gmean(LGBM) * 0.5 + tabnet * 0.5\n",
    "mean_absolute_error(sample['target'],oof['target'])"
   ]
  },
  {
   "cell_type": "markdown",
   "id": "3154315b",
   "metadata": {},
   "source": [
    "### Save Data"
   ]
  },
  {
   "cell_type": "code",
   "execution_count": 23,
   "id": "6ac41b72",
   "metadata": {},
   "outputs": [
    {
     "name": "stdout",
     "output_type": "stream",
     "text": [
      "./data/submission/20221114_0811 is saved.\n"
     ]
    }
   ],
   "source": [
    "date = str(pd.Timestamp.now())[:16].replace('-','').replace(' ','_').replace(':','')\n",
    "filename = f'./data/submission/{date}'\n",
    "sample.to_csv(f'{filename}.csv', index=False)\n",
    "print(f'{filename} is saved.')"
   ]
  },
  {
   "cell_type": "code",
   "execution_count": null,
   "id": "0b95660d",
   "metadata": {},
   "outputs": [],
   "source": []
  },
  {
   "cell_type": "code",
   "execution_count": null,
   "id": "16a8954d",
   "metadata": {},
   "outputs": [],
   "source": []
  }
 ],
 "metadata": {
  "kernelspec": {
   "display_name": "Python 3 (ipykernel)",
   "language": "python",
   "name": "python3"
  },
  "language_info": {
   "codemirror_mode": {
    "name": "ipython",
    "version": 3
   },
   "file_extension": ".py",
   "mimetype": "text/x-python",
   "name": "python",
   "nbconvert_exporter": "python",
   "pygments_lexer": "ipython3",
   "version": "3.9.12"
  }
 },
 "nbformat": 4,
 "nbformat_minor": 5
}
